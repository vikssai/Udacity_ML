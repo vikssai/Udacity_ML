{
 "cells": [
  {
   "cell_type": "code",
   "execution_count": 3,
   "metadata": {
    "collapsed": false
   },
   "outputs": [
    {
     "data": {
      "text/plain": [
       "\"\\nGridSearchCV(cv=None, error_score=...,\\n       estimator=SVC(C=1.0, cache_size=..., class_weight=..., coef0=...,\\n                     decision_function_shape=None, degree=..., gamma=...,\\n                     kernel='rbf', max_iter=-1, probability=False,\\n                     random_state=None, shrinking=True, tol=...,\\n                     verbose=False),\\n       fit_params={}, iid=..., n_jobs=1,\\n       param_grid=..., pre_dispatch=..., refit=...,\\n       scoring=..., verbose=...)\\n\\n\\n\\n\\n\\n\\n\\n\""
      ]
     },
     "execution_count": 3,
     "metadata": {},
     "output_type": "execute_result"
    }
   ],
   "source": [
    "from sklearn import svm, grid_search, datasets\n",
    "iris = datasets.load_iris()\n",
    "parameters = {'kernel':('linear', 'rbf'), 'C':[1, 10]}\n",
    "svr = svm.SVC()\n",
    "clf = grid_search.GridSearchCV(svr, parameters)\n",
    "clf.fit(iris.data, iris.target)                         \n",
    "\"\"\"\n",
    "GridSearchCV(cv=None, error_score=...,\n",
    "       estimator=SVC(C=1.0, cache_size=..., class_weight=..., coef0=...,\n",
    "                     decision_function_shape=None, degree=..., gamma=...,\n",
    "                     kernel='rbf', max_iter=-1, probability=False,\n",
    "                     random_state=None, shrinking=True, tol=...,\n",
    "                     verbose=False),\n",
    "       fit_params={}, iid=..., n_jobs=1,\n",
    "       param_grid=..., pre_dispatch=..., refit=...,\n",
    "       scoring=..., verbose=...)\n",
    "\n",
    "\n",
    "\n",
    "\n",
    "\n",
    "\n",
    "\n",
    "\"\"\""
   ]
  },
  {
   "cell_type": "code",
   "execution_count": null,
   "metadata": {
    "collapsed": true
   },
   "outputs": [],
   "source": [
    "# TODO: Import 'GridSearchCV', 'make_scorer', and any other necessary libraries\n",
    "from sklearn.model_selection import GridSearchCV\n",
    "#from sklearn.svm import SVC\n",
    "#from sklearn.metrics import fbeta_score, make_scorer\n",
    "#svr = svm.SVC()\n",
    "# TODO: Initialize the classifier\n",
    "#clf = grid_search.GridSearchCV?\n",
    "\n",
    "\"\"\"\n",
    "# TODO: Create the parameters list you wish to tune\n",
    "parameters = [\n",
    "  {'C': [1, 10, 100, 1000], 'kernel': ['linear']},\n",
    "  {'C': [1, 10, 100, 1000], 'gamma': [0.001, 0.0001], 'kernel': ['rbf']},\n",
    " ]\n",
    "\n",
    "# TODO: Make an fbeta_score scoring object\n",
    "scorer = fbeta_score(X_train, y_train, beta=0.5)\n",
    "\n",
    "# TODO: Perform grid search on the classifier using 'scorer' as the scoring method\n",
    "grid_obj = None\n",
    "\n",
    "# TODO: Fit the grid search object to the training data and find the optimal parameters\n",
    "grid_fit = None\n",
    "\n",
    "# Get the estimator\n",
    "best_clf = grid_fit.best_estimator_\n",
    "\n",
    "# Make predictions using the unoptimized and model\n",
    "predictions = (clf.fit(X_train, y_train)).predict(X_test)\n",
    "best_predictions = best_clf.predict(X_test)\n",
    "\n",
    "# Report the before-and-afterscores\n",
    "print \"Unoptimized model\\n------\"\n",
    "print \"Accuracy score on testing data: {:.4f}\".format(accuracy_score(y_test, predictions))\n",
    "print \"F-score on testing data: {:.4f}\".format(fbeta_score(y_test, predictions, beta = 0.5))\n",
    "print \"\\nOptimized Model\\n------\"\n",
    "print \"Final accuracy score on the testing data: {:.4f}\".format(accuracy_score(y_test, best_predictions))\n",
    "print \"Final F-score on the testing data: {:.4f}\".format(fbeta_score(y_test, best_predictions, beta = 0.5))\n",
    "\"\"\""
   ]
  }
 ],
 "metadata": {
  "kernelspec": {
   "display_name": "Python 2",
   "language": "python",
   "name": "python2"
  },
  "language_info": {
   "codemirror_mode": {
    "name": "ipython",
    "version": 2
   },
   "file_extension": ".py",
   "mimetype": "text/x-python",
   "name": "python",
   "nbconvert_exporter": "python",
   "pygments_lexer": "ipython2",
   "version": "2.7.13"
  }
 },
 "nbformat": 4,
 "nbformat_minor": 2
}
